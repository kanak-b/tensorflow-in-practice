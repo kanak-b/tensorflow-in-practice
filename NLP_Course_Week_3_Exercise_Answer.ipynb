{
  "nbformat": 4,
  "nbformat_minor": 0,
  "metadata": {
    "accelerator": "GPU",
    "colab": {
      "name": "NLP Course - Week 3 Exercise Answer.ipynb",
      "provenance": [],
      "toc_visible": true
    },
    "kernelspec": {
      "display_name": "Python 3",
      "language": "python",
      "name": "python3"
    },
    "language_info": {
      "codemirror_mode": {
        "name": "ipython",
        "version": 3
      },
      "file_extension": ".py",
      "mimetype": "text/x-python",
      "name": "python",
      "nbconvert_exporter": "python",
      "pygments_lexer": "ipython3",
      "version": "3.7.6"
    }
  },
  "cells": [
    {
      "cell_type": "code",
      "metadata": {
        "colab_type": "code",
        "id": "zX4Kg8DUTKWO",
        "colab": {}
      },
      "source": [
        "#@title Licensed under the Apache License, Version 2.0 (the \"License\");\n",
        "# you may not use this file except in compliance with the License.\n",
        "# You may obtain a copy of the License at\n",
        "#\n",
        "# https://www.apache.org/licenses/LICENSE-2.0\n",
        "#\n",
        "# Unless required by applicable law or agreed to in writing, software\n",
        "# distributed under the License is distributed on an \"AS IS\" BASIS,\n",
        "# WITHOUT WARRANTIES OR CONDITIONS OF ANY KIND, either express or implied.\n",
        "# See the License for the specific language governing permissions and\n",
        "# limitations under the License."
      ],
      "execution_count": null,
      "outputs": []
    },
    {
      "cell_type": "markdown",
      "metadata": {
        "id": "K11h45Jvw9Tz",
        "colab_type": "text"
      },
      "source": [
        "<a href=\"https://colab.research.google.com/github/lmoroney/dlaicourse/blob/master/TensorFlow%20In%20Practice/Course%203%20-%20NLP/NLP%20Course%20-%20Week%203%20Exercise%20Answer.ipynb\" target=\"_parent\"><img src=\"https://colab.research.google.com/assets/colab-badge.svg\" alt=\"Open In Colab\"/></a>"
      ]
    },
    {
      "cell_type": "code",
      "metadata": {
        "colab_type": "code",
        "id": "hmA6EzkQJ5jt",
        "colab": {}
      },
      "source": [
        "import json\n",
        "import tensorflow as tf\n",
        "import csv\n",
        "import random\n",
        "import numpy as np\n",
        "\n",
        "from tensorflow.keras.preprocessing.text import Tokenizer\n",
        "from tensorflow.keras.preprocessing.sequence import pad_sequences\n",
        "from tensorflow.keras.utils import to_categorical\n",
        "from tensorflow.keras import regularizers\n",
        "\n",
        "\n",
        "embedding_dim = 100\n",
        "max_length = 16\n",
        "trunc_type='post'\n",
        "padding_type='post'\n",
        "oov_tok = \"<OOV>\"\n",
        "training_size=160000\n",
        "test_portion=.1\n",
        "\n",
        "corpus = []\n"
      ],
      "execution_count": 1,
      "outputs": []
    },
    {
      "cell_type": "code",
      "metadata": {
        "colab_type": "code",
        "id": "bM0l_dORKqE0",
        "colab": {
          "base_uri": "https://localhost:8080/",
          "height": 202
        },
        "outputId": "3853d4c0-182e-4926-a89d-a735d4c0a797"
      },
      "source": [
        "# Note that I cleaned the Stanford dataset to remove LATIN1 encoding to make it easier for Python CSV reader\n",
        "# You can do that yourself with:\n",
        "# iconv -f LATIN1 -t UTF8 training.1600000.processed.noemoticon.csv -o training_cleaned.csv\n",
        "# I then hosted it on my site to make it easier to use in this notebook\n",
        "\n",
        "!wget --no-check-certificate \\\n",
        "    https://storage.googleapis.com/laurencemoroney-blog.appspot.com/training_cleaned.csv \\\n",
        "    -O /tmp/training_cleaned.csv\n",
        "\n",
        "num_sentences = 0\n",
        "\n",
        "with open(\"/tmp/training_cleaned.csv\") as csvfile:\n",
        "    reader = csv.reader(csvfile, delimiter=',')\n",
        "    for row in reader:\n",
        "        list_item=[]\n",
        "        list_item.append(row[5])\n",
        "        this_label=row[0]\n",
        "        if this_label=='0':\n",
        "            list_item.append(0)\n",
        "        else:\n",
        "            list_item.append(1)\n",
        "        num_sentences = num_sentences + 1\n",
        "        corpus.append(list_item)\n"
      ],
      "execution_count": 2,
      "outputs": [
        {
          "output_type": "stream",
          "text": [
            "--2020-07-14 15:04:49--  https://storage.googleapis.com/laurencemoroney-blog.appspot.com/training_cleaned.csv\n",
            "Resolving storage.googleapis.com (storage.googleapis.com)... 173.194.194.128, 172.217.212.128, 172.217.214.128, ...\n",
            "Connecting to storage.googleapis.com (storage.googleapis.com)|173.194.194.128|:443... connected.\n",
            "HTTP request sent, awaiting response... 200 OK\n",
            "Length: 238942690 (228M) [application/octet-stream]\n",
            "Saving to: ‘/tmp/training_cleaned.csv’\n",
            "\n",
            "/tmp/training_clean 100%[===================>] 227.87M   165MB/s    in 1.4s    \n",
            "\n",
            "2020-07-14 15:04:51 (165 MB/s) - ‘/tmp/training_cleaned.csv’ saved [238942690/238942690]\n",
            "\n"
          ],
          "name": "stdout"
        }
      ]
    },
    {
      "cell_type": "code",
      "metadata": {
        "colab_type": "code",
        "id": "3kxblBUjEUX-",
        "colab": {
          "base_uri": "https://localhost:8080/",
          "height": 67
        },
        "outputId": "80dc0d04-d918-4c5b-e19e-a90499c5666c"
      },
      "source": [
        "print(num_sentences)\n",
        "print(len(corpus))\n",
        "print(corpus[1])\n",
        "\n",
        "# Expected Output:\n",
        "# 1600000\n",
        "# 1600000\n",
        "# [\"is upset that he can't update his Facebook by texting it... and might cry as a result  School today also. Blah!\", 0]"
      ],
      "execution_count": 3,
      "outputs": [
        {
          "output_type": "stream",
          "text": [
            "1600000\n",
            "1600000\n",
            "[\"is upset that he can't update his Facebook by texting it... and might cry as a result  School today also. Blah!\", 0]\n"
          ],
          "name": "stdout"
        }
      ]
    },
    {
      "cell_type": "code",
      "metadata": {
        "colab_type": "code",
        "id": "ohOGz24lsNAD",
        "colab": {}
      },
      "source": [
        "sentences=[]\n",
        "labels=[]\n",
        "random.shuffle(corpus)\n",
        "for x in range(training_size):\n",
        "    sentences.append(corpus[x][0])\n",
        "    labels.append(corpus[x][1])\n",
        "\n",
        "\n",
        "tokenizer = Tokenizer()\n",
        "tokenizer.fit_on_texts(sentences)\n",
        "\n",
        "word_index = tokenizer.word_index\n",
        "vocab_size=len(word_index)\n",
        "\n",
        "sequences = tokenizer.texts_to_sequences(sentences)\n",
        "padded = pad_sequences(sequences, maxlen=max_length, padding=padding_type, truncating=trunc_type)\n",
        "\n",
        "split = int(test_portion * training_size)\n",
        "\n",
        "test_sequences = padded[0:split]\n",
        "training_sequences = padded[split:training_size]\n",
        "test_labels = labels[0:split]\n",
        "training_labels = labels[split:training_size]"
      ],
      "execution_count": 4,
      "outputs": []
    },
    {
      "cell_type": "code",
      "metadata": {
        "colab_type": "code",
        "id": "gIrtRem1En3N",
        "colab": {
          "base_uri": "https://localhost:8080/",
          "height": 50
        },
        "outputId": "67814d38-addc-4f1e-d97e-b4fc933f4857"
      },
      "source": [
        "print(vocab_size)\n",
        "print(word_index['i'])\n",
        "# Expected Output\n",
        "# 138858\n",
        "# 1"
      ],
      "execution_count": 5,
      "outputs": [
        {
          "output_type": "stream",
          "text": [
            "139139\n",
            "1\n"
          ],
          "name": "stdout"
        }
      ]
    },
    {
      "cell_type": "code",
      "metadata": {
        "colab_type": "code",
        "id": "C1zdgJkusRh0",
        "colab": {
          "base_uri": "https://localhost:8080/",
          "height": 202
        },
        "outputId": "fa3d98a2-b897-434d-a7d4-84563c872409"
      },
      "source": [
        "# Note this is the 100 dimension version of GloVe from Stanford\n",
        "# I unzipped and hosted it on my site to make this notebook easier\n",
        "!wget --no-check-certificate \\\n",
        "    https://storage.googleapis.com/laurencemoroney-blog.appspot.com/glove.6B.100d.txt \\\n",
        "    -O /tmp/glove.6B.100d.txt\n",
        "embeddings_index = {};\n",
        "with open('/tmp/glove.6B.100d.txt') as f:\n",
        "    for line in f:\n",
        "        values = line.split();\n",
        "        word = values[0];\n",
        "        coefs = np.asarray(values[1:], dtype='float32');\n",
        "        embeddings_index[word] = coefs;\n",
        "\n",
        "embeddings_matrix = np.zeros((vocab_size+1, embedding_dim));\n",
        "for word, i in word_index.items():\n",
        "    embedding_vector = embeddings_index.get(word);\n",
        "    if embedding_vector is not None:\n",
        "        embeddings_matrix[i] = embedding_vector;"
      ],
      "execution_count": 6,
      "outputs": [
        {
          "output_type": "stream",
          "text": [
            "--2020-07-14 15:05:07--  https://storage.googleapis.com/laurencemoroney-blog.appspot.com/glove.6B.100d.txt\n",
            "Resolving storage.googleapis.com (storage.googleapis.com)... 173.194.192.128, 209.85.145.128, 108.177.112.128, ...\n",
            "Connecting to storage.googleapis.com (storage.googleapis.com)|173.194.192.128|:443... connected.\n",
            "HTTP request sent, awaiting response... 200 OK\n",
            "Length: 347116733 (331M) [text/plain]\n",
            "Saving to: ‘/tmp/glove.6B.100d.txt’\n",
            "\n",
            "/tmp/glove.6B.100d. 100%[===================>] 331.04M   158MB/s    in 2.1s    \n",
            "\n",
            "2020-07-14 15:05:10 (158 MB/s) - ‘/tmp/glove.6B.100d.txt’ saved [347116733/347116733]\n",
            "\n"
          ],
          "name": "stdout"
        }
      ]
    },
    {
      "cell_type": "code",
      "metadata": {
        "colab_type": "code",
        "id": "71NLk_lpFLNt",
        "colab": {
          "base_uri": "https://localhost:8080/",
          "height": 34
        },
        "outputId": "1d397c58-93a2-49c7-8d01-36580be9af44"
      },
      "source": [
        "print(len(embeddings_matrix))\n",
        "# Expected Output\n",
        "# 138859"
      ],
      "execution_count": 7,
      "outputs": [
        {
          "output_type": "stream",
          "text": [
            "139140\n"
          ],
          "name": "stdout"
        }
      ]
    },
    {
      "cell_type": "code",
      "metadata": {
        "colab_type": "code",
        "id": "iKKvbuEBOGFz",
        "colab": {
          "base_uri": "https://localhost:8080/",
          "height": 1000
        },
        "outputId": "4a49478a-2088-4bf8-ddfb-ef79ce0e59d9"
      },
      "source": [
        "model = tf.keras.Sequential([\n",
        "    tf.keras.layers.Embedding(vocab_size+1, embedding_dim, input_length=max_length, weights=[embeddings_matrix], trainable=False),\n",
        "    tf.keras.layers.Dropout(0.2),\n",
        "    tf.keras.layers.Conv1D(64, 5, activation='relu'),\n",
        "    tf.keras.layers.MaxPooling1D(pool_size=4),\n",
        "    tf.keras.layers.LSTM(64),\n",
        "    tf.keras.layers.Dense(1, activation='sigmoid')\n",
        "])\n",
        "model.compile(loss='binary_crossentropy',optimizer='adam',metrics=['accuracy'])\n",
        "model.summary()\n",
        "\n",
        "num_epochs = 50\n",
        "\n",
        "training_padded = np.array(training_sequences)\n",
        "training_labels = np.array(training_labels)\n",
        "testing_padded = np.array(test_sequences)\n",
        "testing_labels = np.array(test_labels)\n",
        "\n",
        "history = model.fit(training_padded, training_labels, epochs=num_epochs, validation_data=(testing_padded, testing_labels), verbose=2)\n",
        "\n",
        "print(\"Training Complete\")"
      ],
      "execution_count": 8,
      "outputs": [
        {
          "output_type": "stream",
          "text": [
            "Model: \"sequential\"\n",
            "_________________________________________________________________\n",
            "Layer (type)                 Output Shape              Param #   \n",
            "=================================================================\n",
            "embedding (Embedding)        (None, 16, 100)           13914000  \n",
            "_________________________________________________________________\n",
            "dropout (Dropout)            (None, 16, 100)           0         \n",
            "_________________________________________________________________\n",
            "conv1d (Conv1D)              (None, 12, 64)            32064     \n",
            "_________________________________________________________________\n",
            "max_pooling1d (MaxPooling1D) (None, 3, 64)             0         \n",
            "_________________________________________________________________\n",
            "lstm (LSTM)                  (None, 64)                33024     \n",
            "_________________________________________________________________\n",
            "dense (Dense)                (None, 1)                 65        \n",
            "=================================================================\n",
            "Total params: 13,979,153\n",
            "Trainable params: 65,153\n",
            "Non-trainable params: 13,914,000\n",
            "_________________________________________________________________\n",
            "Epoch 1/50\n",
            "4500/4500 - 22s - loss: 0.5672 - accuracy: 0.6991 - val_loss: 0.5265 - val_accuracy: 0.7319\n",
            "Epoch 2/50\n",
            "4500/4500 - 22s - loss: 0.5258 - accuracy: 0.7323 - val_loss: 0.5104 - val_accuracy: 0.7464\n",
            "Epoch 3/50\n",
            "4500/4500 - 23s - loss: 0.5092 - accuracy: 0.7448 - val_loss: 0.5119 - val_accuracy: 0.7443\n",
            "Epoch 4/50\n",
            "4500/4500 - 24s - loss: 0.4973 - accuracy: 0.7514 - val_loss: 0.5041 - val_accuracy: 0.7509\n",
            "Epoch 5/50\n",
            "4500/4500 - 23s - loss: 0.4894 - accuracy: 0.7575 - val_loss: 0.5063 - val_accuracy: 0.7498\n",
            "Epoch 6/50\n",
            "4500/4500 - 24s - loss: 0.4823 - accuracy: 0.7634 - val_loss: 0.5064 - val_accuracy: 0.7497\n",
            "Epoch 7/50\n",
            "4500/4500 - 23s - loss: 0.4769 - accuracy: 0.7671 - val_loss: 0.5165 - val_accuracy: 0.7434\n",
            "Epoch 8/50\n",
            "4500/4500 - 22s - loss: 0.4728 - accuracy: 0.7690 - val_loss: 0.5043 - val_accuracy: 0.7486\n",
            "Epoch 9/50\n",
            "4500/4500 - 22s - loss: 0.4670 - accuracy: 0.7723 - val_loss: 0.5041 - val_accuracy: 0.7515\n",
            "Epoch 10/50\n",
            "4500/4500 - 22s - loss: 0.4634 - accuracy: 0.7753 - val_loss: 0.5041 - val_accuracy: 0.7502\n",
            "Epoch 11/50\n",
            "4500/4500 - 22s - loss: 0.4600 - accuracy: 0.7763 - val_loss: 0.5092 - val_accuracy: 0.7516\n",
            "Epoch 12/50\n",
            "4500/4500 - 23s - loss: 0.4558 - accuracy: 0.7793 - val_loss: 0.5100 - val_accuracy: 0.7540\n",
            "Epoch 13/50\n",
            "4500/4500 - 22s - loss: 0.4537 - accuracy: 0.7806 - val_loss: 0.5108 - val_accuracy: 0.7482\n",
            "Epoch 14/50\n",
            "4500/4500 - 24s - loss: 0.4529 - accuracy: 0.7809 - val_loss: 0.5059 - val_accuracy: 0.7526\n",
            "Epoch 15/50\n",
            "4500/4500 - 22s - loss: 0.4497 - accuracy: 0.7829 - val_loss: 0.5085 - val_accuracy: 0.7489\n",
            "Epoch 16/50\n",
            "4500/4500 - 22s - loss: 0.4475 - accuracy: 0.7854 - val_loss: 0.5127 - val_accuracy: 0.7505\n",
            "Epoch 17/50\n",
            "4500/4500 - 22s - loss: 0.4473 - accuracy: 0.7848 - val_loss: 0.5116 - val_accuracy: 0.7467\n",
            "Epoch 18/50\n",
            "4500/4500 - 22s - loss: 0.4454 - accuracy: 0.7853 - val_loss: 0.5085 - val_accuracy: 0.7528\n",
            "Epoch 19/50\n",
            "4500/4500 - 23s - loss: 0.4440 - accuracy: 0.7853 - val_loss: 0.5118 - val_accuracy: 0.7521\n",
            "Epoch 20/50\n",
            "4500/4500 - 25s - loss: 0.4433 - accuracy: 0.7868 - val_loss: 0.5132 - val_accuracy: 0.7477\n",
            "Epoch 21/50\n",
            "4500/4500 - 23s - loss: 0.4388 - accuracy: 0.7893 - val_loss: 0.5142 - val_accuracy: 0.7531\n",
            "Epoch 22/50\n",
            "4500/4500 - 22s - loss: 0.4382 - accuracy: 0.7896 - val_loss: 0.5137 - val_accuracy: 0.7534\n",
            "Epoch 23/50\n",
            "4500/4500 - 22s - loss: 0.4390 - accuracy: 0.7882 - val_loss: 0.5152 - val_accuracy: 0.7491\n",
            "Epoch 24/50\n",
            "4500/4500 - 22s - loss: 0.4378 - accuracy: 0.7906 - val_loss: 0.5140 - val_accuracy: 0.7509\n",
            "Epoch 25/50\n",
            "4500/4500 - 22s - loss: 0.4362 - accuracy: 0.7904 - val_loss: 0.5166 - val_accuracy: 0.7502\n",
            "Epoch 26/50\n",
            "4500/4500 - 22s - loss: 0.4357 - accuracy: 0.7915 - val_loss: 0.5193 - val_accuracy: 0.7500\n",
            "Epoch 27/50\n",
            "4500/4500 - 22s - loss: 0.4348 - accuracy: 0.7919 - val_loss: 0.5238 - val_accuracy: 0.7474\n",
            "Epoch 28/50\n",
            "4500/4500 - 22s - loss: 0.4344 - accuracy: 0.7918 - val_loss: 0.5240 - val_accuracy: 0.7484\n",
            "Epoch 29/50\n",
            "4500/4500 - 22s - loss: 0.4337 - accuracy: 0.7929 - val_loss: 0.5262 - val_accuracy: 0.7481\n",
            "Epoch 30/50\n",
            "4500/4500 - 24s - loss: 0.4318 - accuracy: 0.7951 - val_loss: 0.5226 - val_accuracy: 0.7480\n",
            "Epoch 31/50\n",
            "4500/4500 - 22s - loss: 0.4321 - accuracy: 0.7935 - val_loss: 0.5223 - val_accuracy: 0.7454\n",
            "Epoch 32/50\n",
            "4500/4500 - 22s - loss: 0.4316 - accuracy: 0.7945 - val_loss: 0.5270 - val_accuracy: 0.7464\n",
            "Epoch 33/50\n",
            "4500/4500 - 22s - loss: 0.4310 - accuracy: 0.7942 - val_loss: 0.5205 - val_accuracy: 0.7478\n",
            "Epoch 34/50\n",
            "4500/4500 - 23s - loss: 0.4303 - accuracy: 0.7950 - val_loss: 0.5238 - val_accuracy: 0.7459\n",
            "Epoch 35/50\n",
            "4500/4500 - 22s - loss: 0.4299 - accuracy: 0.7947 - val_loss: 0.5208 - val_accuracy: 0.7455\n",
            "Epoch 36/50\n",
            "4500/4500 - 23s - loss: 0.4302 - accuracy: 0.7945 - val_loss: 0.5252 - val_accuracy: 0.7498\n",
            "Epoch 37/50\n",
            "4500/4500 - 24s - loss: 0.4309 - accuracy: 0.7937 - val_loss: 0.5252 - val_accuracy: 0.7476\n",
            "Epoch 38/50\n",
            "4500/4500 - 24s - loss: 0.4291 - accuracy: 0.7951 - val_loss: 0.5225 - val_accuracy: 0.7490\n",
            "Epoch 39/50\n",
            "4500/4500 - 23s - loss: 0.4279 - accuracy: 0.7964 - val_loss: 0.5284 - val_accuracy: 0.7438\n",
            "Epoch 40/50\n",
            "4500/4500 - 22s - loss: 0.4273 - accuracy: 0.7958 - val_loss: 0.5239 - val_accuracy: 0.7490\n",
            "Epoch 41/50\n",
            "4500/4500 - 22s - loss: 0.4283 - accuracy: 0.7961 - val_loss: 0.5314 - val_accuracy: 0.7466\n",
            "Epoch 42/50\n",
            "4500/4500 - 22s - loss: 0.4271 - accuracy: 0.7970 - val_loss: 0.5229 - val_accuracy: 0.7451\n",
            "Epoch 43/50\n",
            "4500/4500 - 22s - loss: 0.4274 - accuracy: 0.7964 - val_loss: 0.5274 - val_accuracy: 0.7479\n",
            "Epoch 44/50\n",
            "4500/4500 - 22s - loss: 0.4269 - accuracy: 0.7966 - val_loss: 0.5304 - val_accuracy: 0.7466\n",
            "Epoch 45/50\n",
            "4500/4500 - 22s - loss: 0.4266 - accuracy: 0.7980 - val_loss: 0.5253 - val_accuracy: 0.7467\n",
            "Epoch 46/50\n",
            "4500/4500 - 22s - loss: 0.4252 - accuracy: 0.7980 - val_loss: 0.5283 - val_accuracy: 0.7460\n",
            "Epoch 47/50\n",
            "4500/4500 - 22s - loss: 0.4261 - accuracy: 0.7978 - val_loss: 0.5236 - val_accuracy: 0.7509\n",
            "Epoch 48/50\n",
            "4500/4500 - 26s - loss: 0.4264 - accuracy: 0.7973 - val_loss: 0.5263 - val_accuracy: 0.7456\n",
            "Epoch 49/50\n",
            "4500/4500 - 22s - loss: 0.4251 - accuracy: 0.7978 - val_loss: 0.5266 - val_accuracy: 0.7467\n",
            "Epoch 50/50\n",
            "4500/4500 - 22s - loss: 0.4264 - accuracy: 0.7971 - val_loss: 0.5277 - val_accuracy: 0.7476\n",
            "Training Complete\n"
          ],
          "name": "stdout"
        }
      ]
    },
    {
      "cell_type": "code",
      "metadata": {
        "colab_type": "code",
        "id": "qxju4ItJKO8F",
        "colab": {
          "base_uri": "https://localhost:8080/",
          "height": 606
        },
        "outputId": "da62ff88-f2b9-4317-bf6e-0becbd0a8f0f"
      },
      "source": [
        "import matplotlib.image  as mpimg\n",
        "import matplotlib.pyplot as plt\n",
        "\n",
        "#-----------------------------------------------------------\n",
        "# Retrieve a list of list results on training and test data\n",
        "# sets for each training epoch\n",
        "#-----------------------------------------------------------\n",
        "acc=history.history['accuracy']\n",
        "val_acc=history.history['val_accuracy']\n",
        "loss=history.history['loss']\n",
        "val_loss=history.history['val_loss']\n",
        "\n",
        "epochs=range(len(acc)) # Get number of epochs\n",
        "\n",
        "#------------------------------------------------\n",
        "# Plot training and validation accuracy per epoch\n",
        "#------------------------------------------------\n",
        "plt.plot(epochs, acc, 'r')\n",
        "plt.plot(epochs, val_acc, 'b')\n",
        "plt.title('Training and validation accuracy')\n",
        "plt.xlabel(\"Epochs\")\n",
        "plt.ylabel(\"Accuracy\")\n",
        "plt.legend([\"Accuracy\", \"Validation Accuracy\"])\n",
        "\n",
        "plt.figure()\n",
        "\n",
        "#------------------------------------------------\n",
        "# Plot training and validation loss per epoch\n",
        "#------------------------------------------------\n",
        "plt.plot(epochs, loss, 'r')\n",
        "plt.plot(epochs, val_loss, 'b')\n",
        "plt.title('Training and validation loss')\n",
        "plt.xlabel(\"Epochs\")\n",
        "plt.ylabel(\"Loss\")\n",
        "plt.legend([\"Loss\", \"Validation Loss\"])\n",
        "\n",
        "plt.figure()\n",
        "\n",
        "\n",
        "# Expected Output\n",
        "# A chart where the validation loss does not increase sharply!"
      ],
      "execution_count": 9,
      "outputs": [
        {
          "output_type": "execute_result",
          "data": {
            "text/plain": [
              "<Figure size 432x288 with 0 Axes>"
            ]
          },
          "metadata": {
            "tags": []
          },
          "execution_count": 9
        },
        {
          "output_type": "display_data",
          "data": {
            "image/png": "[encoded data removed]",
            "text/plain": [
              "<Figure size 432x288 with 1 Axes>"
            ]
          },
          "metadata": {
            "tags": [],
            "needs_background": "light"
          }
        },
        {
          "output_type": "display_data",
          "data": {
            "image/png": "[encoded data removed]",
            "text/plain": [
              "<Figure size 432x288 with 1 Axes>"
            ]
          },
          "metadata": {
            "tags": [],
            "needs_background": "light"
          }
        },
        {
          "output_type": "display_data",
          "data": {
            "text/plain": [
              "<Figure size 432x288 with 0 Axes>"
            ]
          },
          "metadata": {
            "tags": []
          }
        }
      ]
    },
    {
      "cell_type": "code",
      "metadata": {
        "id": "3CgDF-MoxVWl",
        "colab_type": "code",
        "colab": {}
      },
      "source": [
        ""
      ],
      "execution_count": null,
      "outputs": []
    }
  ]
}