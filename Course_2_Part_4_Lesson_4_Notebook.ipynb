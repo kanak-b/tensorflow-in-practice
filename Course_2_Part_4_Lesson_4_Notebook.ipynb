{
  "nbformat": 4,
  "nbformat_minor": 0,
  "metadata": {
    "accelerator": "GPU",
    "colab": {
      "name": "Course 2 - Part 4 - Lesson 4 - Notebook.ipynb",
      "provenance": [],
      "collapsed_sections": [],
      "toc_visible": true
    },
    "kernelspec": {
      "display_name": "Python 3",
      "name": "python3"
    }
  },
  "cells": [
    {
      "cell_type": "markdown",
      "metadata": {
        "colab_type": "text",
        "id": "rX8mhOLljYeM"
      },
      "source": [
        "##### Copyright 2019 The TensorFlow Authors."
      ]
    },
    {
      "cell_type": "code",
      "metadata": {
        "cellView": "form",
        "colab_type": "code",
        "id": "BZSlp3DAjdYf",
        "colab": {}
      },
      "source": [
        "#@title Licensed under the Apache License, Version 2.0 (the \"License\");\n",
        "# you may not use this file except in compliance with the License.\n",
        "# You may obtain a copy of the License at\n",
        "#\n",
        "# https://www.apache.org/licenses/LICENSE-2.0\n",
        "#\n",
        "# Unless required by applicable law or agreed to in writing, software\n",
        "# distributed under the License is distributed on an \"AS IS\" BASIS,\n",
        "# WITHOUT WARRANTIES OR CONDITIONS OF ANY KIND, either express or implied.\n",
        "# See the License for the specific language governing permissions and\n",
        "# limitations under the License."
      ],
      "execution_count": null,
      "outputs": []
    },
    {
      "cell_type": "code",
      "metadata": {
        "colab_type": "code",
        "id": "RXZT2UsyIVe_",
        "colab": {
          "base_uri": "https://localhost:8080/",
          "height": 386
        },
        "outputId": "3bf61ff7-ad45-443e-8736-df842d81a8a0"
      },
      "source": [
        "!wget --no-check-certificate \\\n",
        "    https://storage.googleapis.com/laurencemoroney-blog.appspot.com/horse-or-human.zip \\\n",
        "    -O /tmp/horse-or-human.zip\n",
        "\n",
        "!wget --no-check-certificate \\\n",
        "    https://storage.googleapis.com/laurencemoroney-blog.appspot.com/validation-horse-or-human.zip \\\n",
        "    -O /tmp/validation-horse-or-human.zip\n",
        "  \n",
        "import os\n",
        "import zipfile\n",
        "\n",
        "local_zip = '/tmp/horse-or-human.zip'\n",
        "zip_ref = zipfile.ZipFile(local_zip, 'r')\n",
        "zip_ref.extractall('/tmp/horse-or-human')\n",
        "local_zip = '/tmp/validation-horse-or-human.zip'\n",
        "zip_ref = zipfile.ZipFile(local_zip, 'r')\n",
        "zip_ref.extractall('/tmp/validation-horse-or-human')\n",
        "zip_ref.close()\n",
        "# Directory with our training horse pictures\n",
        "train_horse_dir = os.path.join('/tmp/horse-or-human/horses')\n",
        "\n",
        "# Directory with our training human pictures\n",
        "train_human_dir = os.path.join('/tmp/horse-or-human/humans')\n",
        "\n",
        "# Directory with our training horse pictures\n",
        "validation_horse_dir = os.path.join('/tmp/validation-horse-or-human/horses')\n",
        "\n",
        "# Directory with our training human pictures\n",
        "validation_human_dir = os.path.join('/tmp/validation-horse-or-human/humans')"
      ],
      "execution_count": 1,
      "outputs": [
        {
          "output_type": "stream",
          "text": [
            "--2020-07-02 05:51:59--  https://storage.googleapis.com/laurencemoroney-blog.appspot.com/horse-or-human.zip\n",
            "Resolving storage.googleapis.com (storage.googleapis.com)... 108.177.125.128, 74.125.23.128, 74.125.203.128, ...\n",
            "Connecting to storage.googleapis.com (storage.googleapis.com)|108.177.125.128|:443... connected.\n",
            "HTTP request sent, awaiting response... 200 OK\n",
            "Length: 149574867 (143M) [application/zip]\n",
            "Saving to: ‘/tmp/horse-or-human.zip’\n",
            "\n",
            "/tmp/horse-or-human 100%[===================>] 142.65M   120MB/s    in 1.2s    \n",
            "\n",
            "2020-07-02 05:52:01 (120 MB/s) - ‘/tmp/horse-or-human.zip’ saved [149574867/149574867]\n",
            "\n",
            "--2020-07-02 05:52:03--  https://storage.googleapis.com/laurencemoroney-blog.appspot.com/validation-horse-or-human.zip\n",
            "Resolving storage.googleapis.com (storage.googleapis.com)... 74.125.203.128, 74.125.204.128, 64.233.187.128, ...\n",
            "Connecting to storage.googleapis.com (storage.googleapis.com)|74.125.203.128|:443... connected.\n",
            "HTTP request sent, awaiting response... 200 OK\n",
            "Length: 11480187 (11M) [application/zip]\n",
            "Saving to: ‘/tmp/validation-horse-or-human.zip’\n",
            "\n",
            "/tmp/validation-hor 100%[===================>]  10.95M  --.-KB/s    in 0.1s    \n",
            "\n",
            "2020-07-02 05:52:03 (95.0 MB/s) - ‘/tmp/validation-horse-or-human.zip’ saved [11480187/11480187]\n",
            "\n"
          ],
          "name": "stdout"
        }
      ]
    },
    {
      "cell_type": "markdown",
      "metadata": {
        "colab_type": "text",
        "id": "5oqBkNBJmtUv"
      },
      "source": [
        "## Building a Small Model from Scratch\n",
        "\n",
        "But before we continue, let's start defining the model:\n",
        "\n",
        "Step 1 will be to import tensorflow."
      ]
    },
    {
      "cell_type": "code",
      "metadata": {
        "colab_type": "code",
        "id": "qvfZg3LQbD-5",
        "colab": {}
      },
      "source": [
        "import tensorflow as tf"
      ],
      "execution_count": 2,
      "outputs": []
    },
    {
      "cell_type": "markdown",
      "metadata": {
        "colab_type": "text",
        "id": "BnhYCP4tdqjC"
      },
      "source": [
        "We then add convolutional layers as in the previous example, and flatten the final result to feed into the densely connected layers."
      ]
    },
    {
      "cell_type": "markdown",
      "metadata": {
        "colab_type": "text",
        "id": "gokG5HKpdtzm"
      },
      "source": [
        "Finally we add the densely connected layers. \n",
        "\n",
        "Note that because we are facing a two-class classification problem, i.e. a *binary classification problem*, we will end our network with a [*sigmoid* activation](https://wikipedia.org/wiki/Sigmoid_function), so that the output of our network will be a single scalar between 0 and 1, encoding the probability that the current image is class 1 (as opposed to class 0)."
      ]
    },
    {
      "cell_type": "code",
      "metadata": {
        "colab_type": "code",
        "id": "PixZ2s5QbYQ3",
        "colab": {}
      },
      "source": [
        "model = tf.keras.models.Sequential([\n",
        "    # Note the input shape is the desired size of the image 300x300 with 3 bytes color\n",
        "    # This is the first convolution\n",
        "    tf.keras.layers.Conv2D(16, (3,3), activation='relu', input_shape=(300, 300, 3)),\n",
        "    tf.keras.layers.MaxPooling2D(2, 2),\n",
        "    # The second convolution\n",
        "    tf.keras.layers.Conv2D(32, (3,3), activation='relu'),\n",
        "    tf.keras.layers.MaxPooling2D(2,2),\n",
        "    # The third convolution\n",
        "    tf.keras.layers.Conv2D(64, (3,3), activation='relu'),\n",
        "    tf.keras.layers.MaxPooling2D(2,2),\n",
        "    # The fourth convolution\n",
        "    tf.keras.layers.Conv2D(64, (3,3), activation='relu'),\n",
        "    tf.keras.layers.MaxPooling2D(2,2),\n",
        "    # The fifth convolution\n",
        "    tf.keras.layers.Conv2D(64, (3,3), activation='relu'),\n",
        "    tf.keras.layers.MaxPooling2D(2,2),\n",
        "    # Flatten the results to feed into a DNN\n",
        "    tf.keras.layers.Flatten(),\n",
        "    # 512 neuron hidden layer\n",
        "    tf.keras.layers.Dense(512, activation='relu'),\n",
        "    # Only 1 output neuron. It will contain a value from 0-1 where 0 for 1 class ('horses') and 1 for the other ('humans')\n",
        "    tf.keras.layers.Dense(1, activation='sigmoid')\n",
        "])"
      ],
      "execution_count": 3,
      "outputs": []
    },
    {
      "cell_type": "code",
      "metadata": {
        "colab_type": "code",
        "id": "8DHWhFP_uhq3",
        "colab": {}
      },
      "source": [
        "from tensorflow.keras.optimizers import RMSprop\n",
        "\n",
        "model.compile(loss='binary_crossentropy',\n",
        "              optimizer=RMSprop(lr=1e-4),\n",
        "              metrics=['accuracy'])"
      ],
      "execution_count": 4,
      "outputs": []
    },
    {
      "cell_type": "code",
      "metadata": {
        "colab_type": "code",
        "id": "ClebU9NJg99G",
        "colab": {
          "base_uri": "https://localhost:8080/",
          "height": 50
        },
        "outputId": "5487e486-6f28-4715-8941-2194f4e24918"
      },
      "source": [
        "from tensorflow.keras.preprocessing.image import ImageDataGenerator\n",
        "\n",
        "# All images will be rescaled by 1./255\n",
        "train_datagen = ImageDataGenerator(\n",
        "      rescale=1./255,\n",
        "      rotation_range=40,\n",
        "      width_shift_range=0.2,\n",
        "      height_shift_range=0.2,\n",
        "      shear_range=0.2,\n",
        "      zoom_range=0.2,\n",
        "      horizontal_flip=True,\n",
        "      fill_mode='nearest')\n",
        "\n",
        "validation_datagen = ImageDataGenerator(rescale=1/255)\n",
        "\n",
        "# Flow training images in batches of 128 using train_datagen generator\n",
        "train_generator = train_datagen.flow_from_directory(\n",
        "        '/tmp/horse-or-human/',  # This is the source directory for training images\n",
        "        target_size=(300, 300),  # All images will be resized to 150x150\n",
        "        batch_size=128,\n",
        "        # Since we use binary_crossentropy loss, we need binary labels\n",
        "        class_mode='binary')\n",
        "\n",
        "# Flow training images in batches of 128 using train_datagen generator\n",
        "validation_generator = validation_datagen.flow_from_directory(\n",
        "        '/tmp/validation-horse-or-human/',  # This is the source directory for training images\n",
        "        target_size=(300, 300),  # All images will be resized to 150x150\n",
        "        batch_size=32,\n",
        "        # Since we use binary_crossentropy loss, we need binary labels\n",
        "        class_mode='binary')"
      ],
      "execution_count": 5,
      "outputs": [
        {
          "output_type": "stream",
          "text": [
            "Found 1027 images belonging to 2 classes.\n",
            "Found 256 images belonging to 2 classes.\n"
          ],
          "name": "stdout"
        }
      ]
    },
    {
      "cell_type": "code",
      "metadata": {
        "colab_type": "code",
        "id": "Fb1_lgobv81m",
        "colab": {
          "base_uri": "https://localhost:8080/",
          "height": 1000
        },
        "outputId": "fc395d50-d352-4a05-91b6-fad48850ac24"
      },
      "source": [
        "history = model.fit(\n",
        "      train_generator,\n",
        "      steps_per_epoch=8,  \n",
        "      epochs=100,\n",
        "      verbose=1,\n",
        "      validation_data = validation_generator,\n",
        "      validation_steps=8)"
      ],
      "execution_count": 6,
      "outputs": [
        {
          "output_type": "stream",
          "text": [
            "Epoch 1/100\n",
            "8/8 [==============================] - 20s 2s/step - loss: 0.6936 - accuracy: 0.5306 - val_loss: 0.6720 - val_accuracy: 0.6641\n",
            "Epoch 2/100\n",
            "8/8 [==============================] - 22s 3s/step - loss: 0.6762 - accuracy: 0.5907 - val_loss: 0.6496 - val_accuracy: 0.7227\n",
            "Epoch 3/100\n",
            "8/8 [==============================] - 24s 3s/step - loss: 0.6485 - accuracy: 0.6719 - val_loss: 0.6229 - val_accuracy: 0.7031\n",
            "Epoch 4/100\n",
            "8/8 [==============================] - 22s 3s/step - loss: 0.6149 - accuracy: 0.7108 - val_loss: 0.5943 - val_accuracy: 0.6523\n",
            "Epoch 5/100\n",
            "8/8 [==============================] - 22s 3s/step - loss: 0.6340 - accuracy: 0.6274 - val_loss: 0.6035 - val_accuracy: 0.6016\n",
            "Epoch 6/100\n",
            "8/8 [==============================] - 25s 3s/step - loss: 0.5613 - accuracy: 0.7497 - val_loss: 0.7057 - val_accuracy: 0.5078\n",
            "Epoch 7/100\n",
            "8/8 [==============================] - 22s 3s/step - loss: 0.5661 - accuracy: 0.7197 - val_loss: 0.6899 - val_accuracy: 0.5352\n",
            "Epoch 8/100\n",
            "8/8 [==============================] - 22s 3s/step - loss: 0.5417 - accuracy: 0.7353 - val_loss: 0.6148 - val_accuracy: 0.6055\n",
            "Epoch 9/100\n",
            "8/8 [==============================] - 22s 3s/step - loss: 0.5233 - accuracy: 0.7386 - val_loss: 0.7505 - val_accuracy: 0.5547\n",
            "Epoch 10/100\n",
            "8/8 [==============================] - 22s 3s/step - loss: 0.5139 - accuracy: 0.7531 - val_loss: 0.8017 - val_accuracy: 0.5625\n",
            "Epoch 11/100\n",
            "8/8 [==============================] - 22s 3s/step - loss: 0.5196 - accuracy: 0.7464 - val_loss: 0.6871 - val_accuracy: 0.6250\n",
            "Epoch 12/100\n",
            "8/8 [==============================] - 22s 3s/step - loss: 0.5094 - accuracy: 0.7597 - val_loss: 0.8481 - val_accuracy: 0.5859\n",
            "Epoch 13/100\n",
            "8/8 [==============================] - 22s 3s/step - loss: 0.4453 - accuracy: 0.7842 - val_loss: 0.9820 - val_accuracy: 0.5898\n",
            "Epoch 14/100\n",
            "8/8 [==============================] - 22s 3s/step - loss: 0.4742 - accuracy: 0.7931 - val_loss: 0.8960 - val_accuracy: 0.6406\n",
            "Epoch 15/100\n",
            "8/8 [==============================] - 25s 3s/step - loss: 0.4958 - accuracy: 0.7775 - val_loss: 1.1890 - val_accuracy: 0.5781\n",
            "Epoch 16/100\n",
            "8/8 [==============================] - 22s 3s/step - loss: 0.4579 - accuracy: 0.7987 - val_loss: 1.1065 - val_accuracy: 0.6133\n",
            "Epoch 17/100\n",
            "8/8 [==============================] - 22s 3s/step - loss: 0.4020 - accuracy: 0.8154 - val_loss: 1.1342 - val_accuracy: 0.6367\n",
            "Epoch 18/100\n",
            "8/8 [==============================] - 24s 3s/step - loss: 0.4140 - accuracy: 0.8125 - val_loss: 2.0116 - val_accuracy: 0.5195\n",
            "Epoch 19/100\n",
            "8/8 [==============================] - 22s 3s/step - loss: 0.4299 - accuracy: 0.8009 - val_loss: 1.4672 - val_accuracy: 0.5820\n",
            "Epoch 20/100\n",
            "8/8 [==============================] - 22s 3s/step - loss: 0.4645 - accuracy: 0.7798 - val_loss: 1.5053 - val_accuracy: 0.5703\n",
            "Epoch 21/100\n",
            "8/8 [==============================] - 22s 3s/step - loss: 0.4003 - accuracy: 0.8076 - val_loss: 0.4261 - val_accuracy: 0.8398\n",
            "Epoch 22/100\n",
            "8/8 [==============================] - 22s 3s/step - loss: 0.4731 - accuracy: 0.7942 - val_loss: 1.6023 - val_accuracy: 0.5859\n",
            "Epoch 23/100\n",
            "8/8 [==============================] - 22s 3s/step - loss: 0.4385 - accuracy: 0.7953 - val_loss: 1.3378 - val_accuracy: 0.6211\n",
            "Epoch 24/100\n",
            "8/8 [==============================] - 25s 3s/step - loss: 0.3679 - accuracy: 0.8365 - val_loss: 1.8775 - val_accuracy: 0.5664\n",
            "Epoch 25/100\n",
            "8/8 [==============================] - 24s 3s/step - loss: 0.3828 - accuracy: 0.8105 - val_loss: 1.2634 - val_accuracy: 0.6562\n",
            "Epoch 26/100\n",
            "8/8 [==============================] - 22s 3s/step - loss: 0.3867 - accuracy: 0.8087 - val_loss: 1.9725 - val_accuracy: 0.5586\n",
            "Epoch 27/100\n",
            "8/8 [==============================] - 22s 3s/step - loss: 0.3327 - accuracy: 0.8621 - val_loss: 2.3633 - val_accuracy: 0.5430\n",
            "Epoch 28/100\n",
            "8/8 [==============================] - 25s 3s/step - loss: 0.3780 - accuracy: 0.8309 - val_loss: 2.6575 - val_accuracy: 0.5156\n",
            "Epoch 29/100\n",
            "8/8 [==============================] - 21s 3s/step - loss: 0.3719 - accuracy: 0.8398 - val_loss: 1.8015 - val_accuracy: 0.5938\n",
            "Epoch 30/100\n",
            "8/8 [==============================] - 22s 3s/step - loss: 0.3379 - accuracy: 0.8632 - val_loss: 2.1316 - val_accuracy: 0.5664\n",
            "Epoch 31/100\n",
            "8/8 [==============================] - 22s 3s/step - loss: 0.3232 - accuracy: 0.8654 - val_loss: 2.0315 - val_accuracy: 0.5898\n",
            "Epoch 32/100\n",
            "8/8 [==============================] - 25s 3s/step - loss: 0.3146 - accuracy: 0.8621 - val_loss: 2.1797 - val_accuracy: 0.5859\n",
            "Epoch 33/100\n",
            "8/8 [==============================] - 22s 3s/step - loss: 0.3195 - accuracy: 0.8576 - val_loss: 1.6165 - val_accuracy: 0.6523\n",
            "Epoch 34/100\n",
            "8/8 [==============================] - 24s 3s/step - loss: 0.3536 - accuracy: 0.8340 - val_loss: 2.4046 - val_accuracy: 0.5508\n",
            "Epoch 35/100\n",
            "8/8 [==============================] - 22s 3s/step - loss: 0.3851 - accuracy: 0.8398 - val_loss: 2.5570 - val_accuracy: 0.5508\n",
            "Epoch 36/100\n",
            "8/8 [==============================] - 22s 3s/step - loss: 0.2884 - accuracy: 0.8799 - val_loss: 2.7321 - val_accuracy: 0.5508\n",
            "Epoch 37/100\n",
            "8/8 [==============================] - 22s 3s/step - loss: 0.3680 - accuracy: 0.8454 - val_loss: 2.3272 - val_accuracy: 0.5664\n",
            "Epoch 38/100\n",
            "8/8 [==============================] - 22s 3s/step - loss: 0.3067 - accuracy: 0.8765 - val_loss: 2.7129 - val_accuracy: 0.5547\n",
            "Epoch 39/100\n",
            "8/8 [==============================] - 22s 3s/step - loss: 0.2698 - accuracy: 0.8843 - val_loss: 3.0440 - val_accuracy: 0.5195\n",
            "Epoch 40/100\n",
            "8/8 [==============================] - 22s 3s/step - loss: 0.2791 - accuracy: 0.8943 - val_loss: 2.4189 - val_accuracy: 0.5625\n",
            "Epoch 41/100\n",
            "8/8 [==============================] - 22s 3s/step - loss: 0.3406 - accuracy: 0.8654 - val_loss: 3.0543 - val_accuracy: 0.5195\n",
            "Epoch 42/100\n",
            "8/8 [==============================] - 22s 3s/step - loss: 0.2453 - accuracy: 0.9055 - val_loss: 1.3759 - val_accuracy: 0.6953\n",
            "Epoch 43/100\n",
            "8/8 [==============================] - 22s 3s/step - loss: 0.3285 - accuracy: 0.8587 - val_loss: 2.1184 - val_accuracy: 0.5977\n",
            "Epoch 44/100\n",
            "8/8 [==============================] - 25s 3s/step - loss: 0.2616 - accuracy: 0.8854 - val_loss: 3.0549 - val_accuracy: 0.5273\n",
            "Epoch 45/100\n",
            "8/8 [==============================] - 22s 3s/step - loss: 0.3106 - accuracy: 0.8498 - val_loss: 2.4532 - val_accuracy: 0.5547\n",
            "Epoch 46/100\n",
            "8/8 [==============================] - 22s 3s/step - loss: 0.2642 - accuracy: 0.8877 - val_loss: 2.7700 - val_accuracy: 0.5547\n",
            "Epoch 47/100\n",
            "8/8 [==============================] - 22s 3s/step - loss: 0.2593 - accuracy: 0.8966 - val_loss: 2.9983 - val_accuracy: 0.5352\n",
            "Epoch 48/100\n",
            "8/8 [==============================] - 25s 3s/step - loss: 0.2711 - accuracy: 0.8854 - val_loss: 2.2516 - val_accuracy: 0.5859\n",
            "Epoch 49/100\n",
            "8/8 [==============================] - 22s 3s/step - loss: 0.3265 - accuracy: 0.8632 - val_loss: 2.6081 - val_accuracy: 0.5430\n",
            "Epoch 50/100\n",
            "8/8 [==============================] - 22s 3s/step - loss: 0.2302 - accuracy: 0.9143 - val_loss: 2.5563 - val_accuracy: 0.5664\n",
            "Epoch 51/100\n",
            "8/8 [==============================] - 22s 3s/step - loss: 0.2137 - accuracy: 0.9188 - val_loss: 3.1144 - val_accuracy: 0.5352\n",
            "Epoch 52/100\n",
            "8/8 [==============================] - 22s 3s/step - loss: 0.2688 - accuracy: 0.8776 - val_loss: 3.0882 - val_accuracy: 0.5352\n",
            "Epoch 53/100\n",
            "8/8 [==============================] - 22s 3s/step - loss: 0.2295 - accuracy: 0.9088 - val_loss: 4.5853 - val_accuracy: 0.5039\n",
            "Epoch 54/100\n",
            "8/8 [==============================] - 22s 3s/step - loss: 0.3120 - accuracy: 0.8487 - val_loss: 2.7103 - val_accuracy: 0.5586\n",
            "Epoch 55/100\n",
            "8/8 [==============================] - 22s 3s/step - loss: 0.2314 - accuracy: 0.9043 - val_loss: 4.1843 - val_accuracy: 0.5156\n",
            "Epoch 56/100\n",
            "8/8 [==============================] - 22s 3s/step - loss: 0.2296 - accuracy: 0.9077 - val_loss: 1.4062 - val_accuracy: 0.7188\n",
            "Epoch 57/100\n",
            "8/8 [==============================] - 22s 3s/step - loss: 0.3240 - accuracy: 0.8610 - val_loss: 3.7368 - val_accuracy: 0.5273\n",
            "Epoch 58/100\n",
            "8/8 [==============================] - 24s 3s/step - loss: 0.2095 - accuracy: 0.9150 - val_loss: 4.1363 - val_accuracy: 0.5195\n",
            "Epoch 59/100\n",
            "8/8 [==============================] - 22s 3s/step - loss: 0.3072 - accuracy: 0.8710 - val_loss: 4.6739 - val_accuracy: 0.5078\n",
            "Epoch 60/100\n",
            "8/8 [==============================] - 22s 3s/step - loss: 0.2280 - accuracy: 0.9010 - val_loss: 3.8499 - val_accuracy: 0.5234\n",
            "Epoch 61/100\n",
            "8/8 [==============================] - 22s 3s/step - loss: 0.1967 - accuracy: 0.9155 - val_loss: 3.7984 - val_accuracy: 0.5312\n",
            "Epoch 62/100\n",
            "8/8 [==============================] - 22s 3s/step - loss: 0.1842 - accuracy: 0.9266 - val_loss: 5.8366 - val_accuracy: 0.5000\n",
            "Epoch 63/100\n",
            "8/8 [==============================] - 22s 3s/step - loss: 0.2913 - accuracy: 0.8699 - val_loss: 2.9524 - val_accuracy: 0.5938\n",
            "Epoch 64/100\n",
            "8/8 [==============================] - 25s 3s/step - loss: 0.2622 - accuracy: 0.8977 - val_loss: 2.9886 - val_accuracy: 0.5625\n",
            "Epoch 65/100\n",
            "8/8 [==============================] - 25s 3s/step - loss: 0.1948 - accuracy: 0.9268 - val_loss: 3.3243 - val_accuracy: 0.5625\n",
            "Epoch 66/100\n",
            "8/8 [==============================] - 22s 3s/step - loss: 0.1998 - accuracy: 0.9143 - val_loss: 4.0437 - val_accuracy: 0.5312\n",
            "Epoch 67/100\n",
            "8/8 [==============================] - 22s 3s/step - loss: 0.2315 - accuracy: 0.8954 - val_loss: 3.6976 - val_accuracy: 0.5352\n",
            "Epoch 68/100\n",
            "8/8 [==============================] - 22s 3s/step - loss: 0.2188 - accuracy: 0.9021 - val_loss: 3.9679 - val_accuracy: 0.5312\n",
            "Epoch 69/100\n",
            "8/8 [==============================] - 22s 3s/step - loss: 0.1913 - accuracy: 0.9188 - val_loss: 4.9085 - val_accuracy: 0.5117\n",
            "Epoch 70/100\n",
            "8/8 [==============================] - 22s 3s/step - loss: 0.2526 - accuracy: 0.8921 - val_loss: 2.6703 - val_accuracy: 0.6172\n",
            "Epoch 71/100\n",
            "8/8 [==============================] - 22s 3s/step - loss: 0.2343 - accuracy: 0.9088 - val_loss: 2.8634 - val_accuracy: 0.6016\n",
            "Epoch 72/100\n",
            "8/8 [==============================] - 22s 3s/step - loss: 0.1692 - accuracy: 0.9344 - val_loss: 3.6773 - val_accuracy: 0.5742\n",
            "Epoch 73/100\n",
            "8/8 [==============================] - 22s 3s/step - loss: 0.2657 - accuracy: 0.8921 - val_loss: 4.2051 - val_accuracy: 0.5352\n",
            "Epoch 74/100\n",
            "8/8 [==============================] - 24s 3s/step - loss: 0.1638 - accuracy: 0.9346 - val_loss: 4.2290 - val_accuracy: 0.5312\n",
            "Epoch 75/100\n",
            "8/8 [==============================] - 22s 3s/step - loss: 0.1869 - accuracy: 0.9255 - val_loss: 4.0479 - val_accuracy: 0.5742\n",
            "Epoch 76/100\n",
            "8/8 [==============================] - 22s 3s/step - loss: 0.2085 - accuracy: 0.9121 - val_loss: 4.7735 - val_accuracy: 0.5273\n",
            "Epoch 77/100\n",
            "8/8 [==============================] - 22s 3s/step - loss: 0.1629 - accuracy: 0.9344 - val_loss: 3.0958 - val_accuracy: 0.6094\n",
            "Epoch 78/100\n",
            "8/8 [==============================] - 22s 3s/step - loss: 0.2189 - accuracy: 0.9110 - val_loss: 3.6852 - val_accuracy: 0.5703\n",
            "Epoch 79/100\n",
            "8/8 [==============================] - 22s 3s/step - loss: 0.1807 - accuracy: 0.9255 - val_loss: 4.1270 - val_accuracy: 0.5352\n",
            "Epoch 80/100\n",
            "8/8 [==============================] - 25s 3s/step - loss: 0.1845 - accuracy: 0.9255 - val_loss: 3.6115 - val_accuracy: 0.5703\n",
            "Epoch 81/100\n",
            "8/8 [==============================] - 22s 3s/step - loss: 0.1627 - accuracy: 0.9366 - val_loss: 2.5633 - val_accuracy: 0.6562\n",
            "Epoch 82/100\n",
            "8/8 [==============================] - 22s 3s/step - loss: 0.2430 - accuracy: 0.9010 - val_loss: 3.5871 - val_accuracy: 0.5703\n",
            "Epoch 83/100\n",
            "8/8 [==============================] - 22s 3s/step - loss: 0.1624 - accuracy: 0.9399 - val_loss: 7.3322 - val_accuracy: 0.5000\n",
            "Epoch 84/100\n",
            "8/8 [==============================] - 22s 3s/step - loss: 0.2279 - accuracy: 0.9143 - val_loss: 3.9467 - val_accuracy: 0.5547\n",
            "Epoch 85/100\n",
            "8/8 [==============================] - 22s 3s/step - loss: 0.1390 - accuracy: 0.9444 - val_loss: 2.3449 - val_accuracy: 0.6641\n",
            "Epoch 86/100\n",
            "8/8 [==============================] - 22s 3s/step - loss: 0.2414 - accuracy: 0.9055 - val_loss: 1.2275 - val_accuracy: 0.7695\n",
            "Epoch 87/100\n",
            "8/8 [==============================] - 22s 3s/step - loss: 0.2493 - accuracy: 0.9021 - val_loss: 3.5279 - val_accuracy: 0.5703\n",
            "Epoch 88/100\n",
            "8/8 [==============================] - 22s 3s/step - loss: 0.1823 - accuracy: 0.9299 - val_loss: 4.2940 - val_accuracy: 0.5547\n",
            "Epoch 89/100\n",
            "8/8 [==============================] - 24s 3s/step - loss: 0.1602 - accuracy: 0.9395 - val_loss: 4.1570 - val_accuracy: 0.5625\n",
            "Epoch 90/100\n",
            "8/8 [==============================] - 22s 3s/step - loss: 0.1659 - accuracy: 0.9321 - val_loss: 0.9674 - val_accuracy: 0.8125\n",
            "Epoch 91/100\n",
            "8/8 [==============================] - 22s 3s/step - loss: 0.2868 - accuracy: 0.8865 - val_loss: 3.7258 - val_accuracy: 0.5664\n",
            "Epoch 92/100\n",
            "8/8 [==============================] - 22s 3s/step - loss: 0.1591 - accuracy: 0.9333 - val_loss: 2.2237 - val_accuracy: 0.6758\n",
            "Epoch 93/100\n",
            "8/8 [==============================] - 22s 3s/step - loss: 0.1885 - accuracy: 0.9232 - val_loss: 4.4645 - val_accuracy: 0.5586\n",
            "Epoch 94/100\n",
            "8/8 [==============================] - 22s 3s/step - loss: 0.1360 - accuracy: 0.9488 - val_loss: 2.6330 - val_accuracy: 0.6562\n",
            "Epoch 95/100\n",
            "8/8 [==============================] - 25s 3s/step - loss: 0.2113 - accuracy: 0.9210 - val_loss: 3.8471 - val_accuracy: 0.5781\n",
            "Epoch 96/100\n",
            "8/8 [==============================] - 22s 3s/step - loss: 0.1649 - accuracy: 0.9333 - val_loss: 4.1736 - val_accuracy: 0.5625\n",
            "Epoch 97/100\n",
            "8/8 [==============================] - 25s 3s/step - loss: 0.1415 - accuracy: 0.9499 - val_loss: 4.6431 - val_accuracy: 0.5469\n",
            "Epoch 98/100\n",
            "8/8 [==============================] - 22s 3s/step - loss: 0.2098 - accuracy: 0.9232 - val_loss: 4.5908 - val_accuracy: 0.5430\n",
            "Epoch 99/100\n",
            "8/8 [==============================] - 22s 3s/step - loss: 0.1320 - accuracy: 0.9577 - val_loss: 4.7335 - val_accuracy: 0.5547\n",
            "Epoch 100/100\n",
            "8/8 [==============================] - 22s 3s/step - loss: 0.1842 - accuracy: 0.9277 - val_loss: 3.0745 - val_accuracy: 0.6250\n"
          ],
          "name": "stdout"
        }
      ]
    },
    {
      "cell_type": "code",
      "metadata": {
        "colab_type": "code",
        "id": "7zNPRWOVJdOH",
        "colab": {
          "base_uri": "https://localhost:8080/",
          "height": 545
        },
        "outputId": "1841e2d4-ea4c-4161-e52f-51a7caf5eba0"
      },
      "source": [
        "import matplotlib.pyplot as plt\n",
        "acc = history.history['accuracy']\n",
        "val_acc = history.history['val_accuracy']\n",
        "loss = history.history['loss']\n",
        "val_loss = history.history['val_loss']\n",
        "\n",
        "epochs = range(len(acc))\n",
        "\n",
        "plt.plot(epochs, acc, 'r', label='Training accuracy')\n",
        "plt.plot(epochs, val_acc, 'b', label='Validation accuracy')\n",
        "plt.title('Training and validation accuracy')\n",
        "\n",
        "plt.figure()\n",
        "\n",
        "plt.plot(epochs, loss, 'r', label='Training Loss')\n",
        "plt.plot(epochs, val_loss, 'b', label='Validation Loss')\n",
        "plt.title('Training and validation loss')\n",
        "plt.legend()\n",
        "\n",
        "plt.show()"
      ],
      "execution_count": 7,
      "outputs": [
        {
          "output_type": "display_data",
          "data": {
            "image/png": "[encoded data removed]",
            "text/plain": [
              "<Figure size 432x288 with 1 Axes>"
            ]
          },
          "metadata": {
            "tags": [],
            "needs_background": "light"
          }
        },
        {
          "output_type": "display_data",
          "data": {
            "image/png": "[encoded data removed]",
            "text/plain": [
              "<Figure size 432x288 with 1 Axes>"
            ]
          },
          "metadata": {
            "tags": [],
            "needs_background": "light"
          }
        }
      ]
    },
    {
      "cell_type": "code",
      "metadata": {
        "id": "h_gVjoTxH_L2",
        "colab_type": "code",
        "colab": {}
      },
      "source": [
        ""
      ],
      "execution_count": null,
      "outputs": []
    }
  ]
}